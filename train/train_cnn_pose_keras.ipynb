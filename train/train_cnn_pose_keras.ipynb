{
 "cells": [
  {
   "cell_type": "markdown",
   "id": "bb2a7d2a",
   "metadata": {},
   "source": [
    "1: Import thư viện và định nghĩa biến toàn cục"
   ]
  },
  {
   "cell_type": "code",
   "execution_count": 20,
   "id": "7c54adbc",
   "metadata": {},
   "outputs": [],
   "source": [
    "import os\n",
    "import pandas as pd\n",
    "import numpy as np\n",
    "import cv2\n",
    "from sklearn.model_selection import train_test_split\n",
    "from tensorflow.keras.applications import ResNet50\n",
    "from tensorflow.keras.applications.resnet50 import preprocess_input\n",
    "from tensorflow.keras.models import Model\n",
    "from tensorflow.keras.layers import Dense, GlobalAveragePooling2D\n",
    "from tensorflow.keras.optimizers import Adam\n",
    "from tensorflow.keras.preprocessing.image import ImageDataGenerator\n",
    "from tensorflow.keras.callbacks import EarlyStopping\n",
    "import matplotlib.pyplot as plt\n",
    "\n",
    "# Đường dẫn dữ liệu\n",
    "BASE_PATH = r\"D:\\file\\project\\Sign-Language-Classification-v1.0\\data\\anphabet\"\n",
    "VIETNAMESE_ALPHABET = [\n",
    "    'a', 'b', 'c', 'd', 'đ', 'e', 'g', 'h', 'i', 'k', 'l', 'm', 'n',\n",
    "    'o', 'p', 'q', 'r', 's', 't', 'u', 'v', 'x', 'y'\n",
    "]\n"
   ]
  },
  {
   "cell_type": "markdown",
   "id": "8ed7ff01",
   "metadata": {},
   "source": [
    "2: Hàm tạo heatmap từ landmarks"
   ]
  },
  {
   "cell_type": "code",
   "execution_count": 21,
   "id": "7f1ff81c",
   "metadata": {},
   "outputs": [],
   "source": [
    "def create_heatmap(landmarks, img_size=(224, 224), sigma=5):\n",
    "    if len(landmarks) % 3 != 0:\n",
    "        print(f\"Warning: Invalid landmark data length {len(landmarks)}. Expected multiple of 3.\")\n",
    "        return np.zeros((img_size[0], img_size[1], 3), dtype=np.uint8)\n",
    "\n",
    "    heatmap = np.zeros(img_size, dtype=np.float32)\n",
    "    for i in range(0, len(landmarks), 3):\n",
    "        x, y = landmarks[i], landmarks[i+1]\n",
    "        if x == 0 and y == 0:\n",
    "            continue\n",
    "        x_px = int(x * img_size[1])\n",
    "        y_px = int(y * img_size[0])\n",
    "        if 0 <= x_px < img_size[1] and 0 <= y_px < img_size[0]:\n",
    "            for j in range(-sigma * 3, sigma * 3 + 1):\n",
    "                for k in range(-sigma * 3, sigma * 3 + 1):\n",
    "                    if 0 <= y_px + k < img_size[0] and 0 <= x_px + j < img_size[1]:\n",
    "                        heatmap[y_px + k, x_px + j] += np.exp(-(j**2 + k**2) / (2 * sigma**2))\n",
    "\n",
    "    if np.max(heatmap) > 0:\n",
    "        heatmap = heatmap / np.max(heatmap)\n",
    "    heatmap = (heatmap * 255).astype(np.uint8)\n",
    "    return np.stack([heatmap] * 3, axis=2)\n"
   ]
  },
  {
   "cell_type": "markdown",
   "id": "7ece6e8a",
   "metadata": {},
   "source": [
    "3: Hàm load dữ liệu landmarks và chuyển thành heatmap"
   ]
  },
  {
   "cell_type": "code",
   "execution_count": 22,
   "id": "f2f59ea1",
   "metadata": {},
   "outputs": [],
   "source": [
    "def load_landmarks_data():\n",
    "    data = []\n",
    "    labels = []\n",
    "    for label_idx, letter in enumerate(VIETNAMESE_ALPHABET):\n",
    "        folder_path = os.path.join(BASE_PATH, letter)\n",
    "        if not os.path.exists(folder_path):\n",
    "            print(f\"Warning: Folder {folder_path} does not exist.\")\n",
    "            continue\n",
    "        for i in range(1, 51):\n",
    "            file_path = os.path.join(folder_path, f\"{i}.csv\")\n",
    "            if os.path.exists(file_path):\n",
    "                df = pd.read_csv(file_path)\n",
    "                landmarks = df.values.flatten()\n",
    "                heatmap = create_heatmap(landmarks)\n",
    "                data.append(heatmap)\n",
    "                labels.append(label_idx)\n",
    "    if not data:\n",
    "        raise ValueError(\"No data loaded. Please check the data directory and CSV files.\")\n",
    "    return np.array(data), np.array(labels)\n"
   ]
  },
  {
   "cell_type": "markdown",
   "id": "f92afab9",
   "metadata": {},
   "source": [
    "4: Chuẩn bị dữ liệu và chia tập"
   ]
  },
  {
   "cell_type": "code",
   "execution_count": 23,
   "id": "2c9b35a6",
   "metadata": {},
   "outputs": [],
   "source": [
    "# Load dữ liệu\n",
    "data, labels = load_landmarks_data()\n",
    "\n",
    "# One-hot encode\n",
    "labels = np.eye(23)[labels]\n",
    "\n",
    "# Train/Val/Test split\n",
    "X_train, X_temp, y_train, y_temp = train_test_split(data, labels, test_size=0.2, random_state=42)\n",
    "X_val, X_test, y_val, y_test = train_test_split(X_temp, y_temp, test_size=0.5, random_state=42)\n",
    "\n",
    "# Chuẩn hóa input\n",
    "X_train = preprocess_input(X_train)\n",
    "X_val = preprocess_input(X_val)\n",
    "X_test = preprocess_input(X_test)\n"
   ]
  },
  {
   "cell_type": "markdown",
   "id": "6c17476e",
   "metadata": {},
   "source": [
    "5: Data Augmentation và xây dựng mô hình"
   ]
  },
  {
   "cell_type": "code",
   "execution_count": 24,
   "id": "cff2440e",
   "metadata": {},
   "outputs": [],
   "source": [
    "# Augmentation\n",
    "datagen = ImageDataGenerator(\n",
    "    rotation_range=5,\n",
    "    width_shift_range=0.05,\n",
    "    height_shift_range=0.05,\n",
    "    zoom_range=0.1,\n",
    "    horizontal_flip=False\n",
    ")\n",
    "\n",
    "# Base model ResNet50\n",
    "base_model = ResNet50(weights='imagenet', include_top=False, input_shape=(224, 224, 3))\n",
    "x = base_model.output\n",
    "x = GlobalAveragePooling2D()(x)\n",
    "x = Dense(256, activation='relu')(x)\n",
    "predictions = Dense(23, activation='softmax')(x)\n",
    "model = Model(inputs=base_model.input, outputs=predictions)\n",
    "\n",
    "# Freeze toàn bộ ResNet50\n",
    "for layer in base_model.layers:\n",
    "    layer.trainable = False\n",
    "\n",
    "# Compile\n",
    "model.compile(optimizer=Adam(learning_rate=0.001), loss='categorical_crossentropy', metrics=['accuracy'])\n"
   ]
  },
  {
   "cell_type": "markdown",
   "id": "eb37b0ab",
   "metadata": {},
   "source": [
    "6: Huấn luyện mô hình lần 1 (ResNet frozen)"
   ]
  },
  {
   "cell_type": "code",
   "execution_count": 25,
   "id": "02c108e1",
   "metadata": {},
   "outputs": [
    {
     "name": "stderr",
     "output_type": "stream",
     "text": [
      "d:\\anaconda3\\envs\\mnist_project\\lib\\site-packages\\keras\\src\\trainers\\data_adapters\\py_dataset_adapter.py:121: UserWarning: Your `PyDataset` class should call `super().__init__(**kwargs)` in its constructor. `**kwargs` can include `workers`, `use_multiprocessing`, `max_queue_size`. Do not pass these arguments to `fit()`, as they will be ignored.\n",
      "  self._warn_if_super_not_called()\n"
     ]
    },
    {
     "name": "stdout",
     "output_type": "stream",
     "text": [
      "Epoch 1/50\n",
      "\u001b[1m29/29\u001b[0m \u001b[32m━━━━━━━━━━━━━━━━━━━━\u001b[0m\u001b[37m\u001b[0m \u001b[1m31s\u001b[0m 940ms/step - accuracy: 0.1915 - loss: 2.9687 - val_accuracy: 0.4261 - val_loss: 1.8840\n",
      "Epoch 2/50\n",
      "\u001b[1m29/29\u001b[0m \u001b[32m━━━━━━━━━━━━━━━━━━━━\u001b[0m\u001b[37m\u001b[0m \u001b[1m26s\u001b[0m 892ms/step - accuracy: 0.6061 - loss: 1.5509 - val_accuracy: 0.7913 - val_loss: 1.0609\n",
      "Epoch 3/50\n",
      "\u001b[1m29/29\u001b[0m \u001b[32m━━━━━━━━━━━━━━━━━━━━\u001b[0m\u001b[37m\u001b[0m \u001b[1m26s\u001b[0m 877ms/step - accuracy: 0.7980 - loss: 0.9664 - val_accuracy: 0.8348 - val_loss: 0.7587\n",
      "Epoch 4/50\n",
      "\u001b[1m29/29\u001b[0m \u001b[32m━━━━━━━━━━━━━━━━━━━━\u001b[0m\u001b[37m\u001b[0m \u001b[1m26s\u001b[0m 894ms/step - accuracy: 0.8988 - loss: 0.5990 - val_accuracy: 0.9304 - val_loss: 0.4733\n",
      "Epoch 5/50\n",
      "\u001b[1m29/29\u001b[0m \u001b[32m━━━━━━━━━━━━━━━━━━━━\u001b[0m\u001b[37m\u001b[0m \u001b[1m25s\u001b[0m 873ms/step - accuracy: 0.9296 - loss: 0.4269 - val_accuracy: 0.9478 - val_loss: 0.3970\n",
      "Epoch 6/50\n",
      "\u001b[1m29/29\u001b[0m \u001b[32m━━━━━━━━━━━━━━━━━━━━\u001b[0m\u001b[37m\u001b[0m \u001b[1m26s\u001b[0m 880ms/step - accuracy: 0.9454 - loss: 0.3327 - val_accuracy: 0.9391 - val_loss: 0.3565\n",
      "Epoch 7/50\n",
      "\u001b[1m29/29\u001b[0m \u001b[32m━━━━━━━━━━━━━━━━━━━━\u001b[0m\u001b[37m\u001b[0m \u001b[1m25s\u001b[0m 878ms/step - accuracy: 0.9548 - loss: 0.2877 - val_accuracy: 0.9391 - val_loss: 0.3041\n",
      "Epoch 8/50\n",
      "\u001b[1m29/29\u001b[0m \u001b[32m━━━━━━━━━━━━━━━━━━━━\u001b[0m\u001b[37m\u001b[0m \u001b[1m26s\u001b[0m 879ms/step - accuracy: 0.9701 - loss: 0.2244 - val_accuracy: 0.9478 - val_loss: 0.2455\n",
      "Epoch 9/50\n",
      "\u001b[1m29/29\u001b[0m \u001b[32m━━━━━━━━━━━━━━━━━━━━\u001b[0m\u001b[37m\u001b[0m \u001b[1m26s\u001b[0m 890ms/step - accuracy: 0.9712 - loss: 0.1839 - val_accuracy: 0.9391 - val_loss: 0.2304\n",
      "Epoch 10/50\n",
      "\u001b[1m29/29\u001b[0m \u001b[32m━━━━━━━━━━━━━━━━━━━━\u001b[0m\u001b[37m\u001b[0m \u001b[1m26s\u001b[0m 901ms/step - accuracy: 0.9859 - loss: 0.1425 - val_accuracy: 0.9565 - val_loss: 0.2097\n",
      "Epoch 11/50\n",
      "\u001b[1m29/29\u001b[0m \u001b[32m━━━━━━━━━━━━━━━━━━━━\u001b[0m\u001b[37m\u001b[0m \u001b[1m26s\u001b[0m 893ms/step - accuracy: 0.9929 - loss: 0.1286 - val_accuracy: 0.9565 - val_loss: 0.2031\n",
      "Epoch 12/50\n",
      "\u001b[1m29/29\u001b[0m \u001b[32m━━━━━━━━━━━━━━━━━━━━\u001b[0m\u001b[37m\u001b[0m \u001b[1m25s\u001b[0m 869ms/step - accuracy: 0.9908 - loss: 0.1266 - val_accuracy: 0.9739 - val_loss: 0.1561\n",
      "Epoch 13/50\n",
      "\u001b[1m29/29\u001b[0m \u001b[32m━━━━━━━━━━━━━━━━━━━━\u001b[0m\u001b[37m\u001b[0m \u001b[1m26s\u001b[0m 888ms/step - accuracy: 0.9785 - loss: 0.1126 - val_accuracy: 0.9739 - val_loss: 0.1533\n",
      "Epoch 14/50\n",
      "\u001b[1m29/29\u001b[0m \u001b[32m━━━━━━━━━━━━━━━━━━━━\u001b[0m\u001b[37m\u001b[0m \u001b[1m25s\u001b[0m 875ms/step - accuracy: 0.9961 - loss: 0.0860 - val_accuracy: 0.9652 - val_loss: 0.1934\n",
      "Epoch 15/50\n",
      "\u001b[1m29/29\u001b[0m \u001b[32m━━━━━━━━━━━━━━━━━━━━\u001b[0m\u001b[37m\u001b[0m \u001b[1m25s\u001b[0m 870ms/step - accuracy: 0.9844 - loss: 0.0960 - val_accuracy: 0.9739 - val_loss: 0.1446\n",
      "Epoch 16/50\n",
      "\u001b[1m29/29\u001b[0m \u001b[32m━━━━━━━━━━━━━━━━━━━━\u001b[0m\u001b[37m\u001b[0m \u001b[1m25s\u001b[0m 872ms/step - accuracy: 0.9954 - loss: 0.0742 - val_accuracy: 0.9739 - val_loss: 0.1333\n",
      "Epoch 17/50\n",
      "\u001b[1m29/29\u001b[0m \u001b[32m━━━━━━━━━━━━━━━━━━━━\u001b[0m\u001b[37m\u001b[0m \u001b[1m26s\u001b[0m 877ms/step - accuracy: 0.9929 - loss: 0.0830 - val_accuracy: 0.9652 - val_loss: 0.1319\n",
      "Epoch 18/50\n",
      "\u001b[1m29/29\u001b[0m \u001b[32m━━━━━━━━━━━━━━━━━━━━\u001b[0m\u001b[37m\u001b[0m \u001b[1m26s\u001b[0m 882ms/step - accuracy: 0.9888 - loss: 0.0688 - val_accuracy: 0.9565 - val_loss: 0.1731\n",
      "Epoch 19/50\n",
      "\u001b[1m29/29\u001b[0m \u001b[32m━━━━━━━━━━━━━━━━━━━━\u001b[0m\u001b[37m\u001b[0m \u001b[1m26s\u001b[0m 885ms/step - accuracy: 0.9912 - loss: 0.0719 - val_accuracy: 0.9739 - val_loss: 0.1309\n",
      "Epoch 20/50\n",
      "\u001b[1m29/29\u001b[0m \u001b[32m━━━━━━━━━━━━━━━━━━━━\u001b[0m\u001b[37m\u001b[0m \u001b[1m26s\u001b[0m 879ms/step - accuracy: 0.9842 - loss: 0.0757 - val_accuracy: 0.9739 - val_loss: 0.1234\n",
      "Epoch 21/50\n",
      "\u001b[1m29/29\u001b[0m \u001b[32m━━━━━━━━━━━━━━━━━━━━\u001b[0m\u001b[37m\u001b[0m \u001b[1m26s\u001b[0m 878ms/step - accuracy: 0.9961 - loss: 0.0477 - val_accuracy: 0.9739 - val_loss: 0.1155\n",
      "Epoch 22/50\n",
      "\u001b[1m29/29\u001b[0m \u001b[32m━━━━━━━━━━━━━━━━━━━━\u001b[0m\u001b[37m\u001b[0m \u001b[1m26s\u001b[0m 881ms/step - accuracy: 0.9925 - loss: 0.0499 - val_accuracy: 0.9739 - val_loss: 0.1376\n",
      "Epoch 23/50\n",
      "\u001b[1m29/29\u001b[0m \u001b[32m━━━━━━━━━━━━━━━━━━━━\u001b[0m\u001b[37m\u001b[0m \u001b[1m25s\u001b[0m 873ms/step - accuracy: 0.9966 - loss: 0.0427 - val_accuracy: 0.9739 - val_loss: 0.1245\n",
      "Epoch 24/50\n",
      "\u001b[1m29/29\u001b[0m \u001b[32m━━━━━━━━━━━━━━━━━━━━\u001b[0m\u001b[37m\u001b[0m \u001b[1m26s\u001b[0m 886ms/step - accuracy: 0.9980 - loss: 0.0407 - val_accuracy: 0.9739 - val_loss: 0.1134\n",
      "Epoch 25/50\n",
      "\u001b[1m29/29\u001b[0m \u001b[32m━━━━━━━━━━━━━━━━━━━━\u001b[0m\u001b[37m\u001b[0m \u001b[1m26s\u001b[0m 885ms/step - accuracy: 0.9872 - loss: 0.0493 - val_accuracy: 0.9739 - val_loss: 0.0864\n",
      "Epoch 26/50\n",
      "\u001b[1m29/29\u001b[0m \u001b[32m━━━━━━━━━━━━━━━━━━━━\u001b[0m\u001b[37m\u001b[0m \u001b[1m25s\u001b[0m 874ms/step - accuracy: 0.9952 - loss: 0.0405 - val_accuracy: 0.9739 - val_loss: 0.0931\n",
      "Epoch 27/50\n",
      "\u001b[1m29/29\u001b[0m \u001b[32m━━━━━━━━━━━━━━━━━━━━\u001b[0m\u001b[37m\u001b[0m \u001b[1m25s\u001b[0m 873ms/step - accuracy: 0.9982 - loss: 0.0275 - val_accuracy: 0.9739 - val_loss: 0.0931\n",
      "Epoch 28/50\n",
      "\u001b[1m29/29\u001b[0m \u001b[32m━━━━━━━━━━━━━━━━━━━━\u001b[0m\u001b[37m\u001b[0m \u001b[1m26s\u001b[0m 884ms/step - accuracy: 0.9980 - loss: 0.0296 - val_accuracy: 0.9739 - val_loss: 0.0994\n",
      "Epoch 29/50\n",
      "\u001b[1m29/29\u001b[0m \u001b[32m━━━━━━━━━━━━━━━━━━━━\u001b[0m\u001b[37m\u001b[0m \u001b[1m26s\u001b[0m 888ms/step - accuracy: 0.9976 - loss: 0.0287 - val_accuracy: 0.9739 - val_loss: 0.0877\n",
      "Epoch 30/50\n",
      "\u001b[1m29/29\u001b[0m \u001b[32m━━━━━━━━━━━━━━━━━━━━\u001b[0m\u001b[37m\u001b[0m \u001b[1m26s\u001b[0m 889ms/step - accuracy: 0.9988 - loss: 0.0273 - val_accuracy: 0.9652 - val_loss: 0.1158\n"
     ]
    }
   ],
   "source": [
    "early_stopping = EarlyStopping(monitor='val_loss', patience=5, restore_best_weights=True)\n",
    "\n",
    "history = model.fit(\n",
    "    datagen.flow(X_train, y_train, batch_size=32),\n",
    "    validation_data=(X_val, y_val),\n",
    "    epochs=50,\n",
    "    callbacks=[early_stopping],\n",
    "    verbose=1\n",
    ")\n"
   ]
  },
  {
   "cell_type": "markdown",
   "id": "3cc52356",
   "metadata": {},
   "source": [
    "7: Fine-tune – Mở khóa 10 tầng cuối ResNet50"
   ]
  },
  {
   "cell_type": "code",
   "execution_count": 26,
   "id": "5b247b4e",
   "metadata": {},
   "outputs": [
    {
     "name": "stdout",
     "output_type": "stream",
     "text": [
      "Epoch 1/20\n",
      "\u001b[1m29/29\u001b[0m \u001b[32m━━━━━━━━━━━━━━━━━━━━\u001b[0m\u001b[37m\u001b[0m \u001b[1m34s\u001b[0m 999ms/step - accuracy: 0.9458 - loss: 0.1922 - val_accuracy: 0.9652 - val_loss: 0.1467\n",
      "Epoch 2/20\n",
      "\u001b[1m29/29\u001b[0m \u001b[32m━━━━━━━━━━━━━━━━━━━━\u001b[0m\u001b[37m\u001b[0m \u001b[1m28s\u001b[0m 950ms/step - accuracy: 0.9885 - loss: 0.0268 - val_accuracy: 0.9652 - val_loss: 0.1357\n",
      "Epoch 3/20\n",
      "\u001b[1m29/29\u001b[0m \u001b[32m━━━━━━━━━━━━━━━━━━━━\u001b[0m\u001b[37m\u001b[0m \u001b[1m28s\u001b[0m 948ms/step - accuracy: 0.9923 - loss: 0.0239 - val_accuracy: 0.9739 - val_loss: 0.0893\n",
      "Epoch 4/20\n",
      "\u001b[1m29/29\u001b[0m \u001b[32m━━━━━━━━━━━━━━━━━━━━\u001b[0m\u001b[37m\u001b[0m \u001b[1m27s\u001b[0m 943ms/step - accuracy: 0.9958 - loss: 0.0159 - val_accuracy: 0.9478 - val_loss: 0.1655\n",
      "Epoch 5/20\n",
      "\u001b[1m29/29\u001b[0m \u001b[32m━━━━━━━━━━━━━━━━━━━━\u001b[0m\u001b[37m\u001b[0m \u001b[1m28s\u001b[0m 953ms/step - accuracy: 0.9958 - loss: 0.0155 - val_accuracy: 0.9826 - val_loss: 0.0770\n",
      "Epoch 6/20\n",
      "\u001b[1m29/29\u001b[0m \u001b[32m━━━━━━━━━━━━━━━━━━━━\u001b[0m\u001b[37m\u001b[0m \u001b[1m28s\u001b[0m 952ms/step - accuracy: 0.9956 - loss: 0.0131 - val_accuracy: 0.9826 - val_loss: 0.0648\n",
      "Epoch 7/20\n",
      "\u001b[1m29/29\u001b[0m \u001b[32m━━━━━━━━━━━━━━━━━━━━\u001b[0m\u001b[37m\u001b[0m \u001b[1m27s\u001b[0m 941ms/step - accuracy: 0.9983 - loss: 0.0089 - val_accuracy: 0.9739 - val_loss: 0.0863\n",
      "Epoch 8/20\n",
      "\u001b[1m29/29\u001b[0m \u001b[32m━━━━━━━━━━━━━━━━━━━━\u001b[0m\u001b[37m\u001b[0m \u001b[1m27s\u001b[0m 944ms/step - accuracy: 0.9974 - loss: 0.0077 - val_accuracy: 0.9826 - val_loss: 0.0809\n",
      "Epoch 9/20\n",
      "\u001b[1m29/29\u001b[0m \u001b[32m━━━━━━━━━━━━━━━━━━━━\u001b[0m\u001b[37m\u001b[0m \u001b[1m28s\u001b[0m 975ms/step - accuracy: 1.0000 - loss: 0.0036 - val_accuracy: 0.9739 - val_loss: 0.0709\n",
      "Epoch 10/20\n",
      "\u001b[1m29/29\u001b[0m \u001b[32m━━━━━━━━━━━━━━━━━━━━\u001b[0m\u001b[37m\u001b[0m \u001b[1m28s\u001b[0m 961ms/step - accuracy: 0.9986 - loss: 0.0034 - val_accuracy: 0.9826 - val_loss: 0.0681\n",
      "Epoch 11/20\n",
      "\u001b[1m29/29\u001b[0m \u001b[32m━━━━━━━━━━━━━━━━━━━━\u001b[0m\u001b[37m\u001b[0m \u001b[1m28s\u001b[0m 957ms/step - accuracy: 0.9964 - loss: 0.0109 - val_accuracy: 0.9826 - val_loss: 0.0711\n"
     ]
    }
   ],
   "source": [
    "# Unfreeze 10 tầng cuối cùng\n",
    "for layer in base_model.layers[-10:]:\n",
    "    layer.trainable = True\n",
    "\n",
    "# Re-compile\n",
    "model.compile(optimizer=Adam(learning_rate=0.0001), loss='categorical_crossentropy', metrics=['accuracy'])\n",
    "\n",
    "# Train thêm\n",
    "history_fine = model.fit(\n",
    "    datagen.flow(X_train, y_train, batch_size=32),\n",
    "    validation_data=(X_val, y_val),\n",
    "    epochs=20,\n",
    "    callbacks=[early_stopping],\n",
    "    verbose=1\n",
    ")\n"
   ]
  },
  {
   "cell_type": "markdown",
   "id": "50c10e15",
   "metadata": {},
   "source": [
    "8: Đánh giá và lưu mô hình"
   ]
  },
  {
   "cell_type": "code",
   "execution_count": 27,
   "id": "6794b09a",
   "metadata": {},
   "outputs": [
    {
     "name": "stderr",
     "output_type": "stream",
     "text": [
      "WARNING:absl:You are saving your model as an HDF5 file via `model.save()` or `keras.saving.save_model(model)`. This file format is considered legacy. We recommend using instead the native Keras format, e.g. `model.save('my_model.keras')` or `keras.saving.save_model(model, 'my_model.keras')`. \n"
     ]
    },
    {
     "name": "stdout",
     "output_type": "stream",
     "text": [
      "\u001b[1m4/4\u001b[0m \u001b[32m━━━━━━━━━━━━━━━━━━━━\u001b[0m\u001b[37m\u001b[0m \u001b[1m3s\u001b[0m 682ms/step - accuracy: 0.9705 - loss: 0.1425\n",
      "🎯 Test Accuracy: 96.52%\n"
     ]
    }
   ],
   "source": [
    "# Lưu mô hình\n",
    "model.save('vsl_cnn_pose_keras.h5')\n",
    "\n",
    "# Đánh giá\n",
    "test_loss, test_acc = model.evaluate(X_test, y_test)\n",
    "print(f\"🎯 Test Accuracy: {test_acc*100:.2f}%\")\n"
   ]
  },
  {
   "cell_type": "markdown",
   "id": "368ba155",
   "metadata": {},
   "source": [
    "9: Vẽ biểu đồ huấn luyện"
   ]
  },
  {
   "cell_type": "code",
   "execution_count": 28,
   "id": "9ce3fdc2",
   "metadata": {},
   "outputs": [
    {
     "data": {
      "image/png": "[encoded data removed]",
      "text/plain": [
       "<Figure size 1200x400 with 2 Axes>"
      ]
     },
     "metadata": {},
     "output_type": "display_data"
    }
   ],
   "source": [
    "plt.figure(figsize=(12, 4))\n",
    "\n",
    "# Loss\n",
    "plt.subplot(1, 2, 1)\n",
    "plt.plot(history.history['loss'] + history_fine.history['loss'], label='Train Loss')\n",
    "plt.plot(history.history['val_loss'] + history_fine.history['val_loss'], label='Val Loss')\n",
    "plt.xlabel('Epoch')\n",
    "plt.ylabel('Loss')\n",
    "plt.legend()\n",
    "\n",
    "# Accuracy\n",
    "plt.subplot(1, 2, 2)\n",
    "plt.plot(history.history['accuracy'] + history_fine.history['accuracy'], label='Train Accuracy')\n",
    "plt.plot(history.history['val_accuracy'] + history_fine.history['val_accuracy'], label='Val Accuracy')\n",
    "plt.xlabel('Epoch')\n",
    "plt.ylabel('Accuracy')\n",
    "plt.legend()\n",
    "\n",
    "plt.savefig('training_plot_keras.png')\n",
    "plt.show()\n"
   ]
  }
 ],
 "metadata": {
  "language_info": {
   "name": "python"
  }
 },
 "nbformat": 4,
 "nbformat_minor": 5
}
