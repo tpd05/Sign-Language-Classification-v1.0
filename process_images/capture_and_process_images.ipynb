{
 "cells": [
  {
   "cell_type": "markdown",
   "id": "5350e793",
   "metadata": {},
   "source": [
    "1: Khởi tạo thư viện và biến toàn cục"
   ]
  },
  {
   "cell_type": "code",
   "execution_count": 14,
   "id": "61483c60",
   "metadata": {},
   "outputs": [
    {
     "name": "stdout",
     "output_type": "stream",
     "text": [
      "Requirement already satisfied: opencv-python in d:\\anaconda3\\envs\\mnist_project\\lib\\site-packages (4.12.0.88)\n",
      "Requirement already satisfied: mediapipe in d:\\anaconda3\\envs\\mnist_project\\lib\\site-packages (0.10.14)\n",
      "Requirement already satisfied: pandas in d:\\anaconda3\\envs\\mnist_project\\lib\\site-packages (2.3.1)\n",
      "Requirement already satisfied: numpy<2.3.0,>=2 in d:\\anaconda3\\envs\\mnist_project\\lib\\site-packages (from opencv-python) (2.0.2)\n",
      "Requirement already satisfied: absl-py in d:\\anaconda3\\envs\\mnist_project\\lib\\site-packages (from mediapipe) (2.3.0)\n",
      "Requirement already satisfied: attrs>=19.1.0 in d:\\anaconda3\\envs\\mnist_project\\lib\\site-packages (from mediapipe) (24.3.0)\n",
      "Requirement already satisfied: flatbuffers>=2.0 in d:\\anaconda3\\envs\\mnist_project\\lib\\site-packages (from mediapipe) (25.2.10)\n",
      "Requirement already satisfied: jax in d:\\anaconda3\\envs\\mnist_project\\lib\\site-packages (from mediapipe) (0.4.30)\n",
      "Requirement already satisfied: jaxlib in d:\\anaconda3\\envs\\mnist_project\\lib\\site-packages (from mediapipe) (0.4.30)\n",
      "Requirement already satisfied: matplotlib in d:\\anaconda3\\envs\\mnist_project\\lib\\site-packages (from mediapipe) (3.9.4)\n",
      "Requirement already satisfied: opencv-contrib-python in d:\\anaconda3\\envs\\mnist_project\\lib\\site-packages (from mediapipe) (4.12.0.88)\n",
      "Requirement already satisfied: protobuf<5,>=4.25.3 in d:\\anaconda3\\envs\\mnist_project\\lib\\site-packages (from mediapipe) (4.25.8)\n",
      "Requirement already satisfied: sounddevice>=0.4.4 in d:\\anaconda3\\envs\\mnist_project\\lib\\site-packages (from mediapipe) (0.5.2)\n",
      "Requirement already satisfied: python-dateutil>=2.8.2 in d:\\anaconda3\\envs\\mnist_project\\lib\\site-packages (from pandas) (2.9.0.post0)\n",
      "Requirement already satisfied: pytz>=2020.1 in d:\\anaconda3\\envs\\mnist_project\\lib\\site-packages (from pandas) (2025.2)\n",
      "Requirement already satisfied: tzdata>=2022.7 in d:\\anaconda3\\envs\\mnist_project\\lib\\site-packages (from pandas) (2025.2)\n",
      "Requirement already satisfied: six>=1.5 in d:\\anaconda3\\envs\\mnist_project\\lib\\site-packages (from python-dateutil>=2.8.2->pandas) (1.17.0)\n",
      "Requirement already satisfied: CFFI>=1.0 in d:\\anaconda3\\envs\\mnist_project\\lib\\site-packages (from sounddevice>=0.4.4->mediapipe) (1.17.1)\n",
      "Requirement already satisfied: pycparser in d:\\anaconda3\\envs\\mnist_project\\lib\\site-packages (from CFFI>=1.0->sounddevice>=0.4.4->mediapipe) (2.21)\n",
      "Requirement already satisfied: ml-dtypes>=0.2.0 in d:\\anaconda3\\envs\\mnist_project\\lib\\site-packages (from jax->mediapipe) (0.5.1)\n",
      "Requirement already satisfied: opt-einsum in d:\\anaconda3\\envs\\mnist_project\\lib\\site-packages (from jax->mediapipe) (3.4.0)\n",
      "Requirement already satisfied: scipy>=1.9 in d:\\anaconda3\\envs\\mnist_project\\lib\\site-packages (from jax->mediapipe) (1.13.1)\n",
      "Requirement already satisfied: importlib-metadata>=4.6 in d:\\anaconda3\\envs\\mnist_project\\lib\\site-packages (from jax->mediapipe) (8.5.0)\n",
      "Requirement already satisfied: zipp>=3.20 in d:\\anaconda3\\envs\\mnist_project\\lib\\site-packages (from importlib-metadata>=4.6->jax->mediapipe) (3.21.0)\n",
      "Requirement already satisfied: contourpy>=1.0.1 in d:\\anaconda3\\envs\\mnist_project\\lib\\site-packages (from matplotlib->mediapipe) (1.3.0)\n",
      "Requirement already satisfied: cycler>=0.10 in d:\\anaconda3\\envs\\mnist_project\\lib\\site-packages (from matplotlib->mediapipe) (0.12.1)\n",
      "Requirement already satisfied: fonttools>=4.22.0 in d:\\anaconda3\\envs\\mnist_project\\lib\\site-packages (from matplotlib->mediapipe) (4.58.4)\n",
      "Requirement already satisfied: kiwisolver>=1.3.1 in d:\\anaconda3\\envs\\mnist_project\\lib\\site-packages (from matplotlib->mediapipe) (1.4.7)\n",
      "Requirement already satisfied: packaging>=20.0 in d:\\anaconda3\\envs\\mnist_project\\lib\\site-packages (from matplotlib->mediapipe) (24.2)\n",
      "Requirement already satisfied: pillow>=8 in d:\\anaconda3\\envs\\mnist_project\\lib\\site-packages (from matplotlib->mediapipe) (11.2.1)\n",
      "Requirement already satisfied: pyparsing>=2.3.1 in d:\\anaconda3\\envs\\mnist_project\\lib\\site-packages (from matplotlib->mediapipe) (3.2.3)\n",
      "Requirement already satisfied: importlib-resources>=3.2.0 in d:\\anaconda3\\envs\\mnist_project\\lib\\site-packages (from matplotlib->mediapipe) (6.5.2)\n"
     ]
    }
   ],
   "source": [
    "!pip install opencv-python mediapipe pandas"
   ]
  },
  {
   "cell_type": "code",
   "execution_count": null,
   "id": "1b647b7a",
   "metadata": {},
   "outputs": [],
   "source": [
    "import cv2\n",
    "import os\n",
    "import time\n",
    "import mediapipe as mp\n",
    "import pandas as pd\n",
    "from datetime import datetime\n",
    "\n",
    "# Đường dẫn lưu dữ liệu\n",
    "BASE_PATH = r\"D:\\file\\project\\Sign-Language-Classification-v1.0\\data\\anphabet\"\n",
    "\n",
    "# Bảng chữ cái tiếng Việt (23 ký tự không dấu)\n",
    "VIETNAMESE_ALPHABET = [\n",
    "    'a', 'b', 'c', 'd', 'đ', 'e', 'g', 'h', 'i', 'k', 'l', 'm', 'n',\n",
    "    'o', 'p', 'q', 'r', 's', 't', 'u', 'v', 'x', 'y'\n",
    "]\n",
    "\n",
    "# Số lượng mẫu cần thu thập\n",
    "NUM_SAMPLES_PER_FOLDER = 50\n",
    "\n",
    "# Khởi tạo Mediapipe\n",
    "mp_hands = mp.solutions.hands\n",
    "mp_face_mesh = mp.solutions.face_mesh\n",
    "hands = mp_hands.Hands(static_image_mode=False, max_num_hands=1, min_detection_confidence=0.5)\n",
    "face_mesh = mp_face_mesh.FaceMesh(static_image_mode=False, max_num_faces=1, min_detection_confidence=0.5)\n",
    "mp_drawing = mp.solutions.drawing_utils\n"
   ]
  },
  {
   "cell_type": "markdown",
   "id": "8f3fa1c0",
   "metadata": {},
   "source": [
    "2: Định nghĩa các hàm hỗ trợ"
   ]
  },
  {
   "cell_type": "code",
   "execution_count": 16,
   "id": "ea2dd4b8",
   "metadata": {},
   "outputs": [],
   "source": [
    "def create_folders(base_path, letter):\n",
    "    folder_path = os.path.join(base_path, letter)\n",
    "    if not os.path.exists(folder_path):\n",
    "        os.makedirs(folder_path)\n",
    "    return folder_path\n",
    "\n",
    "def save_landmarks_to_csv(hand_landmarks, face_landmarks, file_path):\n",
    "    data = {}\n",
    "\n",
    "    # Hand\n",
    "    if hand_landmarks:\n",
    "        for i, landmark in enumerate(hand_landmarks.landmark):\n",
    "            data[f'hand_x_{i}'] = landmark.x\n",
    "            data[f'hand_y_{i}'] = landmark.y\n",
    "            data[f'hand_z_{i}'] = landmark.z\n",
    "    else:\n",
    "        for i in range(21):\n",
    "            data[f'hand_x_{i}'] = 0.0\n",
    "            data[f'hand_y_{i}'] = 0.0\n",
    "            data[f'hand_z_{i}'] = 0.0\n",
    "\n",
    "    # Face\n",
    "    face_keypoints = [10, 152, 234, 454, 33, 263, 1, 61, 291, 199]\n",
    "    if face_landmarks:\n",
    "        for idx in face_keypoints:\n",
    "            landmark = face_landmarks.landmark[idx]\n",
    "            data[f'face_x_{idx}'] = landmark.x\n",
    "            data[f'face_y_{idx}'] = landmark.y\n",
    "            data[f'face_z_{idx}'] = landmark.z\n",
    "    else:\n",
    "        for idx in face_keypoints:\n",
    "            data[f'face_x_{idx}'] = 0.0\n",
    "            data[f'face_y_{idx}'] = 0.0\n",
    "            data[f'face_z_{idx}'] = 0.0\n",
    "\n",
    "    df = pd.DataFrame([data])\n",
    "    df.to_csv(file_path, index=False)\n"
   ]
  },
  {
   "cell_type": "markdown",
   "id": "c239c916",
   "metadata": {},
   "source": [
    "3: Chạy ghi hình cho một ký tự cụ thể"
   ]
  },
  {
   "cell_type": "code",
   "execution_count": 17,
   "id": "a99ed7c5",
   "metadata": {},
   "outputs": [],
   "source": [
    "def capture_for_letter(letter):\n",
    "    cap = cv2.VideoCapture(0)\n",
    "    if not cap.isOpened():\n",
    "        print(\"Không thể mở camera!\")\n",
    "        return\n",
    "\n",
    "    folder_path = create_folders(BASE_PATH, letter)\n",
    "    print(f\"\\nBắt đầu chụp landmarks cho chữ cái: '{letter}'\")\n",
    "\n",
    "    count = 1\n",
    "    file_number = 1\n",
    "    start_time = time.time()\n",
    "\n",
    "    while count <= NUM_SAMPLES_PER_FOLDER:\n",
    "        ret, frame = cap.read()\n",
    "        if not ret:\n",
    "            print(\"Không đọc được khung hình!\")\n",
    "            break\n",
    "\n",
    "        frame = cv2.flip(frame, 1)\n",
    "        frame_rgb = cv2.cvtColor(frame, cv2.COLOR_BGR2RGB)\n",
    "        hand_results = hands.process(frame_rgb)\n",
    "        face_results = face_mesh.process(frame_rgb)\n",
    "\n",
    "        if hand_results.multi_hand_landmarks:\n",
    "            for hand_landmarks in hand_results.multi_hand_landmarks:\n",
    "                mp_drawing.draw_landmarks(frame, hand_landmarks, mp_hands.HAND_CONNECTIONS)\n",
    "        if face_results.multi_face_landmarks:\n",
    "            for face_landmarks in face_results.multi_face_landmarks:\n",
    "                mp_drawing.draw_landmarks(frame, face_landmarks, mp_face_mesh.FACEMESH_TESSELATION)\n",
    "\n",
    "        cv2.imshow(\"Capture\", frame)\n",
    "\n",
    "        if time.time() - start_time >= 2 and (hand_results.multi_hand_landmarks or face_results.multi_face_landmarks):\n",
    "            file_path = os.path.join(folder_path, f\"{file_number}.csv\")\n",
    "            save_landmarks_to_csv(\n",
    "                hand_results.multi_hand_landmarks[0] if hand_results.multi_hand_landmarks else None,\n",
    "                face_results.multi_face_landmarks[0] if face_results.multi_face_landmarks else None,\n",
    "                file_path\n",
    "            )\n",
    "            print(f\"[{count}/{NUM_SAMPLES_PER_FOLDER}] Đã lưu: {file_path}\")\n",
    "            count += 1\n",
    "            file_number += 1\n",
    "            start_time = time.time()\n",
    "\n",
    "        if cv2.waitKey(1) & 0xFF == ord('q'):\n",
    "            print(\"Đã thoát.\")\n",
    "            break\n",
    "\n",
    "    cap.release()\n",
    "    cv2.destroyAllWindows()\n",
    "    print(f\"✔️ Hoàn tất thu thập '{letter}' ({count-1} mẫu).\")\n"
   ]
  },
  {
   "cell_type": "markdown",
   "id": "e8169f18",
   "metadata": {},
   "source": [
    "4: Chạy thử nghiệm cho 1 ký tự"
   ]
  },
  {
   "cell_type": "code",
   "execution_count": 18,
   "id": "2dd4ff64",
   "metadata": {},
   "outputs": [
    {
     "name": "stdout",
     "output_type": "stream",
     "text": [
      "\n",
      "Bắt đầu chụp landmarks cho chữ cái: 'a'\n"
     ]
    },
    {
     "name": "stderr",
     "output_type": "stream",
     "text": [
      "d:\\anaconda3\\envs\\mnist_project\\lib\\site-packages\\google\\protobuf\\symbol_database.py:55: UserWarning: SymbolDatabase.GetPrototype() is deprecated. Please use message_factory.GetMessageClass() instead. SymbolDatabase.GetPrototype() will be removed soon.\n",
      "  warnings.warn('SymbolDatabase.GetPrototype() is deprecated. Please '\n"
     ]
    },
    {
     "name": "stdout",
     "output_type": "stream",
     "text": [
      "[1/50] Đã lưu: D:\\file\\project\\Sign-Language-Classification-v1.0\\data\\a\\1.csv\n",
      "[2/50] Đã lưu: D:\\file\\project\\Sign-Language-Classification-v1.0\\data\\a\\2.csv\n",
      "[3/50] Đã lưu: D:\\file\\project\\Sign-Language-Classification-v1.0\\data\\a\\3.csv\n",
      "[4/50] Đã lưu: D:\\file\\project\\Sign-Language-Classification-v1.0\\data\\a\\4.csv\n",
      "[5/50] Đã lưu: D:\\file\\project\\Sign-Language-Classification-v1.0\\data\\a\\5.csv\n",
      "[6/50] Đã lưu: D:\\file\\project\\Sign-Language-Classification-v1.0\\data\\a\\6.csv\n",
      "[7/50] Đã lưu: D:\\file\\project\\Sign-Language-Classification-v1.0\\data\\a\\7.csv\n",
      "[8/50] Đã lưu: D:\\file\\project\\Sign-Language-Classification-v1.0\\data\\a\\8.csv\n",
      "Đã thoát.\n",
      "✔️ Hoàn tất thu thập 'a' (8 mẫu).\n"
     ]
    }
   ],
   "source": [
    "# Chạy thử nghiệm\n",
    "# Nhấn 'q' để dừng sớm\n",
    "capture_for_letter('a')  # thay 'a' bằng chữ bạn muốn thu thập\n"
   ]
  }
 ],
 "metadata": {
  "kernelspec": {
   "display_name": "Python (project1)",
   "language": "python",
   "name": "mnist_project"
  },
  "language_info": {
   "codemirror_mode": {
    "name": "ipython",
    "version": 3
   },
   "file_extension": ".py",
   "mimetype": "text/x-python",
   "name": "python",
   "nbconvert_exporter": "python",
   "pygments_lexer": "ipython3",
   "version": "3.9.23"
  }
 },
 "nbformat": 4,
 "nbformat_minor": 5
}
