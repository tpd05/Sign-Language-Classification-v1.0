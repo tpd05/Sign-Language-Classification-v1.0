{
 "cells": [
  {
   "cell_type": "markdown",
   "id": "8b00fa0a",
   "metadata": {},
   "source": [
    "1: Import thư viện"
   ]
  },
  {
   "cell_type": "code",
   "execution_count": null,
   "id": "31cd7cf7",
   "metadata": {},
   "outputs": [],
   "source": [
    "import cv2\n",
    "import numpy as np\n",
    "import mediapipe as mp\n",
    "from tensorflow.keras.models import load_model\n",
    "from tensorflow.keras.applications.resnet50 import preprocess_input\n",
    "from PIL import Image, ImageDraw, ImageFont\n",
    "from IPython.display import display, clear_output\n",
    "import matplotlib.pyplot as plt"
   ]
  },
  {
   "cell_type": "markdown",
   "id": "36671ad5",
   "metadata": {},
   "source": [
    "2: Khởi tạo MediaPipe và các thông số"
   ]
  },
  {
   "cell_type": "code",
   "execution_count": null,
   "id": "195e283b",
   "metadata": {},
   "outputs": [],
   "source": [
    "mp_hands = mp.solutions.hands.Hands(max_num_hands=1, min_detection_confidence=0.7)\n",
    "mp_face_mesh = mp.solutions.face_mesh.FaceMesh(max_num_faces=1, min_detection_confidence=0.7)\n",
    "\n",
    "MODEL_PATH = r\"D:\\file\\project\\Sign-Language-Classification-v1.0\\train\\vsl_cnn_pose_keras.h5\"\n",
    "VIETNAMESE_ALPHABET = ['a', 'b', 'c', 'd', 'đ', 'e', 'g', 'h', 'i', 'k', 'l', 'm', 'n',\n",
    "                       'o', 'p', 'q', 'r', 's', 't', 'u', 'v', 'x', 'y']\n",
    "model = load_model(MODEL_PATH)"
   ]
  },
  {
   "cell_type": "markdown",
   "id": "dc94fa80",
   "metadata": {},
   "source": [
    "3: Hàm hỗ trợ (heatmap + hiển thị tiếng Việt)"
   ]
  },
  {
   "cell_type": "code",
   "execution_count": null,
   "id": "940c3f9d",
   "metadata": {},
   "outputs": [],
   "source": [
    "def create_heatmap(landmarks, img_size=(224, 224), sigma=5):\n",
    "    heatmap = np.zeros(img_size, dtype=np.float32)\n",
    "    for i in range(0, len(landmarks), 3):\n",
    "        x, y = landmarks[i], landmarks[i+1]\n",
    "        if x == 0 and y == 0:\n",
    "            continue\n",
    "        x_px = int(x * img_size[1])\n",
    "        y_px = int(y * img_size[0])\n",
    "        if 0 <= x_px < img_size[1] and 0 <= y_px < img_size[0]:\n",
    "            for j in range(-sigma * 3, sigma * 3 + 1):\n",
    "                for k in range(-sigma * 3, sigma * 3 + 1):\n",
    "                    if 0 <= y_px + k < img_size[0] and 0 <= x_px + j < img_size[1]:\n",
    "                        heatmap[y_px + k, x_px + j] += np.exp(-(j**2 + k**2) / (2 * sigma**2))\n",
    "    if np.max(heatmap) > 0:\n",
    "        heatmap = heatmap / np.max(heatmap)\n",
    "    heatmap = (heatmap * 255).astype(np.uint8)\n",
    "    return np.stack([heatmap] * 3, axis=2)\n",
    "\n",
    "def draw_vietnamese_text(image, text, position, font_size=30, color=(0, 255, 0)):\n",
    "    image_pil = Image.fromarray(cv2.cvtColor(image, cv2.COLOR_BGR2RGB))\n",
    "    draw = ImageDraw.Draw(image_pil)\n",
    "    try:\n",
    "        font = ImageFont.truetype(\"arial.ttf\", font_size)\n",
    "    except IOError:\n",
    "        print(\"Không tìm thấy font Arial, dùng mặc định.\")\n",
    "        font = ImageFont.load_default()\n",
    "    draw.text(position, text, font=font, fill=color)\n",
    "    return cv2.cvtColor(np.array(image_pil), cv2.COLOR_RGB2BGR)"
   ]
  },
  {
   "cell_type": "markdown",
   "id": "aaa803bb",
   "metadata": {},
   "source": [
    "4: Chạy webcam và hiển thị ảnh trong notebook"
   ]
  },
  {
   "cell_type": "code",
   "execution_count": null,
   "id": "0a91b214",
   "metadata": {},
   "outputs": [],
   "source": [
    "cap = cv2.VideoCapture(0)\n",
    "\n",
    "print(\"Nhấn Ctrl+C để dừng.\")\n",
    "try:\n",
    "    while True:\n",
    "        success, image = cap.read()\n",
    "        if not success:\n",
    "            print(\"Không thể đọc frame.\")\n",
    "            break\n",
    "\n",
    "        image = cv2.flip(image, 1)\n",
    "        image_rgb = cv2.cvtColor(image, cv2.COLOR_BGR2RGB)\n",
    "\n",
    "        # Nhận diện tay\n",
    "        hands_results = mp_hands.process(image_rgb)\n",
    "        hand_landmarks = []\n",
    "        if hands_results.multi_hand_landmarks:\n",
    "            for hand_landmark in hands_results.multi_hand_landmarks:\n",
    "                for landmark in hand_landmark.landmark:\n",
    "                    hand_landmarks.extend([landmark.x, landmark.y, landmark.z])\n",
    "\n",
    "        # Nhận diện mặt\n",
    "        face_results = mp_face_mesh.process(image_rgb)\n",
    "        face_landmarks = []\n",
    "        if face_results.multi_face_landmarks:\n",
    "            for face_landmark in face_results.multi_face_landmarks:\n",
    "                key_points = [10, 152, 234, 454, 33, 263, 1, 61, 291, 199]\n",
    "                for idx in key_points:\n",
    "                    landmark = face_landmark.landmark[idx]\n",
    "                    face_landmarks.extend([landmark.x, landmark.y, landmark.z])\n",
    "\n",
    "        all_landmarks = hand_landmarks + face_landmarks\n",
    "\n",
    "        if all_landmarks and len(all_landmarks) == 93:\n",
    "            heatmap = create_heatmap(all_landmarks)\n",
    "            heatmap_input = np.expand_dims(heatmap, axis=0)\n",
    "            heatmap_input = preprocess_input(heatmap_input)\n",
    "\n",
    "            predictions = model.predict(heatmap_input)\n",
    "            predicted_class = np.argmax(predictions, axis=1)[0]\n",
    "            predicted_letter = VIETNAMESE_ALPHABET[predicted_class]\n",
    "            confidence = np.max(predictions) * 100\n",
    "\n",
    "            text = f'Letter: {predicted_letter} ({confidence:.2f}%)'\n",
    "            image = draw_vietnamese_text(image, text, position=(10, 30), font_size=30)\n",
    "\n",
    "        # Hiển thị trong notebook\n",
    "        clear_output(wait=True)\n",
    "        plt.imshow(cv2.cvtColor(image, cv2.COLOR_BGR2RGB))\n",
    "        plt.axis('off')\n",
    "        plt.show()\n",
    "\n",
    "except KeyboardInterrupt:\n",
    "    print(\"Dừng camera.\")\n",
    "\n",
    "cap.release()\n",
    "cv2.destroyAllWindows()\n"
   ]
  }
 ],
 "metadata": {
  "language_info": {
   "name": "python"
  }
 },
 "nbformat": 4,
 "nbformat_minor": 5
}
